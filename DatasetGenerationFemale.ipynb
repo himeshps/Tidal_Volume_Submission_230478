{
  "nbformat": 4,
  "nbformat_minor": 0,
  "metadata": {
    "colab": {
      "provenance": [],
      "authorship_tag": "ABX9TyOYRHoRRtSR7ZGG/yVhqJtV",
      "include_colab_link": true
    },
    "kernelspec": {
      "name": "python3",
      "display_name": "Python 3"
    },
    "language_info": {
      "name": "python"
    }
  },
  "cells": [
    {
      "cell_type": "markdown",
      "metadata": {
        "id": "view-in-github",
        "colab_type": "text"
      },
      "source": [
        "<a href=\"https://colab.research.google.com/github/himeshps/Tidal_Volume_Submission_230478/blob/main/DatasetGenerationFemale.ipynb\" target=\"_parent\"><img src=\"https://colab.research.google.com/assets/colab-badge.svg\" alt=\"Open In Colab\"/></a>"
      ]
    },
    {
      "cell_type": "code",
      "execution_count": 1,
      "metadata": {
        "id": "dQytVROmu5jX"
      },
      "outputs": [],
      "source": [
        "import numpy as np\n",
        "import pandas as pd\n",
        "\n",
        "# Defined the features with their means and standard deviations\n",
        "features = {\n",
        "    'weight': {'mean': 60.81, 'std': 11.10},\n",
        "    'height': {'mean': 155.88, 'std': 6.15},\n",
        "    'age': {'mean': 55.51, 'std': 16.93},\n",
        "    'chest_circumference': {'mean': 91.73, 'std': 11.21},\n",
        "    'BodyMassIndex': {'mean': 25.00, 'std': 4.15},\n",
        "    'tidal_volume': {'mean': 440.91, 'std': 47.98},\n",
        "}\n",
        "\n",
        "# Extract means and standard deviations\n",
        "means = [features[f]['mean'] for f in features]\n",
        "stds = [features[f]['std'] for f in features]"
      ]
    },
    {
      "cell_type": "code",
      "source": [
        "# Assumed correlation coefficients matrix (symmetric matrix with 1's on the diagonal).\n",
        "#Assumptions are also individually based on research and analysis.\n",
        "correlations = np.array([\n",
        "    [1.0, 0.821, 0.31,  0.85,0.866,0.90],\n",
        "    [0.821,  1.0,  0.26,  0.56,0.418, 0.85],\n",
        "    [0.31,  0.26,  1.0, 0.36, 0.25, -0.56],\n",
        "    [0.85, 0.56, 0.36,  1.0, 0.56, 0.80],\n",
        "    [0.866,0.418, 0.25,  0.56, 1.0, 0.67],\n",
        "    [ 0.90, 0.85, -0.56, 0.80, 0.67, 1.0]\n",
        "])"
      ],
      "metadata": {
        "id": "WkcX8qSevkzc"
      },
      "execution_count": 2,
      "outputs": []
    },
    {
      "cell_type": "code",
      "source": [
        "# Initializing covariance matrix\n",
        "cov_matrix = np.zeros((6, 6))\n",
        "\n",
        "# Filling covariance matrix\n",
        "for i in range(len(features)):\n",
        "    for j in range(len(features)):\n",
        "        cov_matrix[i, j] = correlations[i, j] * stds[i] * stds[j]\n",
        "\n",
        "print(\"Covariance Matrix:\\n\", cov_matrix)"
      ],
      "metadata": {
        "colab": {
          "base_uri": "https://localhost:8080/"
        },
        "id": "ETvtnjBD2d6g",
        "outputId": "e135575d-60df-4812-b273-d875b1032550"
      },
      "execution_count": 4,
      "outputs": [
        {
          "output_type": "stream",
          "name": "stdout",
          "text": [
            "Covariance Matrix:\n",
            " [[ 123.21       56.045565   58.25613   105.76635    39.89229   479.3202  ]\n",
            " [  56.045565   37.8225     27.07107    38.60724    10.668405  250.81545 ]\n",
            " [  58.25613    27.07107   286.6249     68.322708   17.564875 -454.888784]\n",
            " [ 105.76635    38.60724    68.322708  125.6641     26.05204   430.28464 ]\n",
            " [  39.89229    10.668405   17.564875   26.05204    17.2225    133.40839 ]\n",
            " [ 479.3202    250.81545  -454.888784  430.28464   133.40839  2302.0804  ]]\n"
          ]
        }
      ]
    },
    {
      "cell_type": "code",
      "source": [
        "# Number of samples to generate as from the source\n",
        "num_samples = 154\n",
        "\n",
        "# Generation of the synthetic dataset\n",
        "synthetic_data = np.random.multivariate_normal(mean=means, cov=cov_matrix, size=num_samples)\n",
        "\n",
        "# Convert to DataFrame\n",
        "columns = list(features.keys())\n",
        "df = pd.DataFrame(synthetic_data, columns=columns)\n",
        "\n",
        "# To Display the first few rows of the generated dataset\n",
        "print(df.head())\n",
        "\n",
        "# To Verify the generated data\n",
        "print(\"Means of the generated data:\\n\", df.mean())\n",
        "print(\"Standard deviations of the generated data:\\n\", df.std())\n",
        "print(\"Covariance matrix of the generated data:\\n\", df.cov())\n",
        "\n",
        "# Saving as CSV\n",
        "df.to_csv('synthetic_dataset_6_features_female.csv', index=False)"
      ],
      "metadata": {
        "colab": {
          "base_uri": "https://localhost:8080/"
        },
        "id": "vDHeLB7Z2k7m",
        "outputId": "67d04c43-bebe-420f-abcc-472364ad1b42"
      },
      "execution_count": 6,
      "outputs": [
        {
          "output_type": "stream",
          "name": "stdout",
          "text": [
            "      weight      height        age  chest_circumference  BodyMassIndex  \\\n",
            "0  45.757826  140.552437  62.235624            82.073387      24.240196   \n",
            "1  58.014769  161.160835  66.657825            75.641414      24.013658   \n",
            "2  60.059109  158.299800  95.775068            95.214410      21.717779   \n",
            "3  50.247011  154.592054  25.776156            77.497380      18.608985   \n",
            "4  69.506174  165.243121  35.442947           101.268915      23.699756   \n",
            "\n",
            "   tidal_volume  \n",
            "0    396.848075  \n",
            "1    367.990908  \n",
            "2    390.850029  \n",
            "3    495.418275  \n",
            "4    476.450908  \n",
            "Means of the generated data:\n",
            " weight                  59.452282\n",
            "height                 155.681271\n",
            "age                     52.351450\n",
            "chest_circumference     90.385648\n",
            "BodyMassIndex           24.675103\n",
            "tidal_volume           439.212780\n",
            "dtype: float64\n",
            "Standard deviations of the generated data:\n",
            " weight                 13.332091\n",
            "height                  8.665453\n",
            "age                    18.887268\n",
            "chest_circumference    13.203363\n",
            "BodyMassIndex           4.601578\n",
            "tidal_volume           46.315624\n",
            "dtype: float64\n",
            "Covariance matrix of the generated data:\n",
            "                          weight      height         age  chest_circumference  \\\n",
            "weight               177.744653  101.733177   16.929647           153.207788   \n",
            "height               101.733177   75.090069   -2.314678            82.746263   \n",
            "age                   16.929647   -2.314678  356.728896            16.116848   \n",
            "chest_circumference  153.207788   82.746263   16.116848           174.328789   \n",
            "BodyMassIndex         51.157041   24.375149    5.047148            38.331951   \n",
            "tidal_volume         410.280513  232.335040 -337.376164           392.811668   \n",
            "\n",
            "                     BodyMassIndex  tidal_volume  \n",
            "weight                   51.157041    410.280513  \n",
            "height                   24.375149    232.335040  \n",
            "age                       5.047148   -337.376164  \n",
            "chest_circumference      38.331951    392.811668  \n",
            "BodyMassIndex            21.174524    103.829361  \n",
            "tidal_volume            103.829361   2145.137063  \n"
          ]
        },
        {
          "output_type": "stream",
          "name": "stderr",
          "text": [
            "<ipython-input-6-3dc9fb195251>:5: RuntimeWarning: covariance is not symmetric positive-semidefinite.\n",
            "  synthetic_data = np.random.multivariate_normal(mean=means, cov=cov_matrix, size=num_samples)\n"
          ]
        }
      ]
    },
    {
      "cell_type": "code",
      "source": [
        "from google.colab import files\n",
        "\n",
        "# Download the file\n",
        "files.download('synthetic_dataset_6_features_female.csv')"
      ],
      "metadata": {
        "colab": {
          "base_uri": "https://localhost:8080/",
          "height": 17
        },
        "id": "vkO6GXLj2z-f",
        "outputId": "c6c7f16a-ed02-40f8-fe36-132f8ab9b58d"
      },
      "execution_count": 7,
      "outputs": [
        {
          "output_type": "display_data",
          "data": {
            "text/plain": [
              "<IPython.core.display.Javascript object>"
            ],
            "application/javascript": [
              "\n",
              "    async function download(id, filename, size) {\n",
              "      if (!google.colab.kernel.accessAllowed) {\n",
              "        return;\n",
              "      }\n",
              "      const div = document.createElement('div');\n",
              "      const label = document.createElement('label');\n",
              "      label.textContent = `Downloading \"${filename}\": `;\n",
              "      div.appendChild(label);\n",
              "      const progress = document.createElement('progress');\n",
              "      progress.max = size;\n",
              "      div.appendChild(progress);\n",
              "      document.body.appendChild(div);\n",
              "\n",
              "      const buffers = [];\n",
              "      let downloaded = 0;\n",
              "\n",
              "      const channel = await google.colab.kernel.comms.open(id);\n",
              "      // Send a message to notify the kernel that we're ready.\n",
              "      channel.send({})\n",
              "\n",
              "      for await (const message of channel.messages) {\n",
              "        // Send a message to notify the kernel that we're ready.\n",
              "        channel.send({})\n",
              "        if (message.buffers) {\n",
              "          for (const buffer of message.buffers) {\n",
              "            buffers.push(buffer);\n",
              "            downloaded += buffer.byteLength;\n",
              "            progress.value = downloaded;\n",
              "          }\n",
              "        }\n",
              "      }\n",
              "      const blob = new Blob(buffers, {type: 'application/binary'});\n",
              "      const a = document.createElement('a');\n",
              "      a.href = window.URL.createObjectURL(blob);\n",
              "      a.download = filename;\n",
              "      div.appendChild(a);\n",
              "      a.click();\n",
              "      div.remove();\n",
              "    }\n",
              "  "
            ]
          },
          "metadata": {}
        },
        {
          "output_type": "display_data",
          "data": {
            "text/plain": [
              "<IPython.core.display.Javascript object>"
            ],
            "application/javascript": [
              "download(\"download_e048d307-5349-4dee-82df-ef82bf468b7d\", \"synthetic_dataset_6_features_female.csv\", 16962)"
            ]
          },
          "metadata": {}
        }
      ]
    }
  ]
}