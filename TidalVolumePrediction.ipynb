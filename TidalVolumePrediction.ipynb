{
  "nbformat": 4,
  "nbformat_minor": 0,
  "metadata": {
    "colab": {
      "provenance": [],
      "mount_file_id": "1DwOPqRkkACyK1gI1GTIbINExhMBdQP0F",
      "authorship_tag": "ABX9TyPGwBsYDZsSD0Qkib54KV5E",
      "include_colab_link": true
    },
    "kernelspec": {
      "name": "python3",
      "display_name": "Python 3"
    },
    "language_info": {
      "name": "python"
    }
  },
  "cells": [
    {
      "cell_type": "markdown",
      "metadata": {
        "id": "view-in-github",
        "colab_type": "text"
      },
      "source": [
        "<a href=\"https://colab.research.google.com/github/himeshps/Tidal_Volume_Submission_230478/blob/main/TidalVolumePrediction.ipynb\" target=\"_parent\"><img src=\"https://colab.research.google.com/assets/colab-badge.svg\" alt=\"Open In Colab\"/></a>"
      ]
    },
    {
      "cell_type": "code",
      "execution_count": 17,
      "metadata": {
        "id": "6aXJ5SiovAMj"
      },
      "outputs": [],
      "source": [
        "#Importing the required python libraries, my approach is to find the best fitting model out of the ones mentioned.\n",
        "#The models that I have used in this notebook are Linear Regression, Support Vector Machine, Gradient Booster Regression, Random Forest Regression.\n",
        "#I have individually tested all the models and chosen the best one.\n",
        "\n",
        "#This codeblock is specifically importing for linear regression.\n",
        "\n",
        "import pandas as pd\n",
        "from sklearn.model_selection import train_test_split\n",
        "from sklearn.linear_model import LinearRegression\n",
        "from sklearn.metrics import mean_squared_error, r2_score\n",
        "from sklearn.preprocessing import StandardScaler\n",
        "from sklearn.model_selection import train_test_split\n",
        "from sklearn.linear_model import LinearRegression\n",
        "from sklearn.metrics import mean_squared_error\n",
        "from sklearn.metrics import mean_absolute_error"
      ]
    },
    {
      "cell_type": "code",
      "source": [
        "# Mounting the google drive to import the dataset.\n",
        "#I will be leaving the link to the drive on readme commit of the repo for verification purposes.\n",
        "\n",
        "df = pd.read_csv('/content/drive/MyDrive/TidalVolumeTask_PClub_Recruitment/Dataset_Female.csv')\n",
        "\n",
        "# Separating the features used for prediction and the target variable\n",
        "\n",
        "X = df[['age', 'height','chest_circumference', 'BodyMassIndex','weight']]\n",
        "y = df['tidal_volume']"
      ],
      "metadata": {
        "id": "GIBlABnr6I09"
      },
      "execution_count": 18,
      "outputs": []
    },
    {
      "cell_type": "code",
      "source": [
        "X_train, X_val, y_train, y_val = train_test_split(X, y, test_size=0.20, random_state=42)\n",
        "\n",
        "#Feature Scaling\n",
        "scaler = StandardScaler()\n",
        "\n",
        "# Fit scaler on training data and transforming the data post partition.\n",
        "X_train_scaled = scaler.fit_transform(X_train)\n",
        "X_val_scaled = scaler.transform(X_val)\n",
        "\n",
        "# Implementing Linear Regression model on the scaled data\n",
        "model = LinearRegression()\n",
        "model.fit(X_train_scaled, y_train)\n",
        "\n",
        "# Final Predictions delievered\n",
        "y_pred = model.predict(X_val_scaled)"
      ],
      "metadata": {
        "id": "UePQycEB6sTE"
      },
      "execution_count": 19,
      "outputs": []
    },
    {
      "cell_type": "code",
      "source": [
        "mse = mean_squared_error(y_val, y_pred)\n",
        "r2 = r2_score(y_val, y_pred)\n",
        "\n",
        "print(f'Mean Squared Error: {mse}')\n",
        "print(f'R-squared: {r2}')\n",
        "mae = mean_absolute_error(y_val, y_pred)\n",
        "\n",
        "print(\"Mean Absolute Error:\", mae)\n"
      ],
      "metadata": {
        "colab": {
          "base_uri": "https://localhost:8080/"
        },
        "id": "WR_9a4eM67Sz",
        "outputId": "b446feeb-584f-4534-8786-e8f28f61e24c"
      },
      "execution_count": 22,
      "outputs": [
        {
          "output_type": "stream",
          "name": "stdout",
          "text": [
            "Mean Squared Error: 675.8480794023885\n",
            "R-squared: 0.7197907962490695\n",
            "Mean Absolute Error: 20.782270329173812\n"
          ]
        }
      ]
    },
    {
      "cell_type": "code",
      "source": [],
      "metadata": {
        "id": "G-N7WmSqgEip"
      },
      "execution_count": null,
      "outputs": []
    },
    {
      "cell_type": "code",
      "source": [
        "import matplotlib.pyplot as plt\n",
        "import numpy as np\n",
        "from sklearn.linear_model import LinearRegression\n",
        "\n",
        "# Initialize and train Linear Regression model\n",
        "model = LinearRegression()\n",
        "model.fit(X, y)\n",
        "\n",
        "# Making the predictions.\n",
        "y_pred = model.predict(X)\n",
        "\n",
        "# Plotting the actual/derived data points.\n",
        "plt.scatter(y, y_pred, color='blue', label='Actual vs Predicted')\n",
        "\n",
        "# The regression line is plotted here.\n",
        "plt.plot([y.min(), y.max()], [y.min(), y.max()], linestyle='--', color='red', label='Perfect Prediction')\n",
        "\n",
        "# Taking care of the labels and title\n",
        "plt.xlabel('Actual Tidal Volume')\n",
        "plt.ylabel('Predicted Tidal Volume')\n",
        "plt.title('Actual vs Predicted Tidal Volume')\n",
        "plt.legend()\n",
        "\n",
        "# Pictoral Representation\n",
        "plt.show()\n",
        "\n",
        "#PLEASE DON'T CONFUSE THIS AS THE FINAL MODEL, THE SETUP IS YET A SUBJECT TO FEW MODIFICATIONS."
      ],
      "metadata": {
        "colab": {
          "base_uri": "https://localhost:8080/",
          "height": 472
        },
        "id": "5e6sm5uc9tX7",
        "outputId": "a3446559-7785-4ee4-a972-25362f7ad3f4"
      },
      "execution_count": 10,
      "outputs": [
        {
          "output_type": "display_data",
          "data": {
            "text/plain": [
              "<Figure size 640x480 with 1 Axes>"
            ],
            "image/png": "[encoded data removed]"
          },
          "metadata": {}
        }
      ]
    },
    {
      "cell_type": "code",
      "source": [
        "def take_input():\n",
        "    age = int(input(\"Enter age: \"))\n",
        "    height = int(input(\"Enter height in cm: \"))\n",
        "    chest_circumference = int(input(\"Enter chest circumference in cm: \"))\n",
        "    BodyMassIndex = float(input(\"Enter BMI: \"))\n",
        "    weight=float(input(\"Enter weight:\"))\n",
        "\n",
        "    return {'age': [age], 'height': [height],\n",
        "            'chest_circumference': [chest_circumference], 'BodyMassIndex': [BodyMassIndex], 'weight' : [weight]}\n",
        "\n",
        "# Get input from user for prediction of the tidal volume\n",
        "print(\"\\nEnter new data for prediction:\")\n",
        "new_data = take_input()\n",
        "\n",
        "# Data-frame formation\n",
        "new_df = pd.DataFrame(new_data)\n",
        "\n",
        "# Prediction of the tidal volume for new data\n",
        "predicted_tidal_volume = model.predict(new_df)\n",
        "print(f'Predicted Tidal Volume: {predicted_tidal_volume[0]} ml')"
      ],
      "metadata": {
        "colab": {
          "base_uri": "https://localhost:8080/"
        },
        "id": "3THiSBsq48dB",
        "outputId": "46939bbd-7663-49ef-cde1-1b57b81c42e5"
      },
      "execution_count": 11,
      "outputs": [
        {
          "output_type": "stream",
          "name": "stdout",
          "text": [
            "\n",
            "Enter new data for prediction:\n",
            "Enter age: 18\n",
            "Enter height in cm: 172\n",
            "Enter chest circumference in cm: 102\n",
            "Enter BMI: 20.4\n",
            "Enter weight:61\n",
            "Predicted Tidal Volume: 472.1851833541398 ml\n"
          ]
        }
      ]
    },
    {
      "cell_type": "code",
      "source": [
        "# I had referred to the r_squared values and the mean square error of the 4 models I was supposed to compare.\n",
        "# It turns out that linear regression model provides the best fit for the dataset at our disposal\n",
        "# Therefore, though I have provided the code for the remaining three models, it is only for the purpose of verification of accuracy."
      ],
      "metadata": {
        "id": "hJVkA-hpB21P"
      },
      "execution_count": null,
      "outputs": []
    },
    {
      "cell_type": "code",
      "source": [
        "# Random Forest Regression Model.   Reason behind choice can be found in the README on the repo.\n",
        "# Below goes the code for the implementation of the same.\n",
        "\n",
        "import pandas as pd\n",
        "from sklearn.model_selection import train_test_split\n",
        "from sklearn.ensemble import RandomForestRegressor\n",
        "from sklearn.metrics import mean_squared_error, r2_score\n",
        "\n",
        "# Mounting the dataset\n",
        "df = pd.read_csv('/content/drive/MyDrive/TidalVolumeTask_PClub_Recruitment/Dataset_Female.csv')\n",
        "\n",
        "# Separating the features from target variable.\n",
        "X = df[['age', 'height', 'chest_circumference', 'BodyMassIndex']]\n",
        "y = df['tidal_volume']\n",
        "\n",
        "# Spliting step\n",
        "X_train, X_val, y_train, y_val = train_test_split(X, y, test_size=0.2, random_state=42)\n",
        "\n",
        "# Initializing the model\n",
        "rf_model = RandomForestRegressor(n_estimators=100, random_state=42)\n",
        "\n",
        "#I chose to stick with 100 trees before making the mean prediction from the model as a dataset of 300 points would waste the computation.\n",
        "\n",
        "rf_model.fit(X_train, y_train)\n",
        "\n",
        "# Making the final predictions here.\n",
        "y_pred = rf_model.predict(X_val)\n",
        "\n",
        "# For the comparison of how well the model fared against the other models being implemented\n",
        "\n",
        "mse = mean_squared_error(y_val, y_pred)\n",
        "r2 = r2_score(y_val, y_pred)\n",
        "\n",
        "print(f'Mean Squared Error: {mse}')\n",
        "print(f'R-squared: {r2}')\n",
        "\n"
      ],
      "metadata": {
        "colab": {
          "base_uri": "https://localhost:8080/"
        },
        "id": "3Bu1Oo9FBvh8",
        "outputId": "d2248f47-38a7-49a0-affb-ea9e50948980"
      },
      "execution_count": 22,
      "outputs": [
        {
          "output_type": "stream",
          "name": "stdout",
          "text": [
            "Mean Squared Error: 925.0253722666544\n",
            "R-squared: 0.6164809357134777\n"
          ]
        }
      ]
    },
    {
      "cell_type": "code",
      "source": [
        "# Implementing the support vector regression now\n",
        "\n",
        "import pandas as pd\n",
        "from sklearn.model_selection import train_test_split\n",
        "from sklearn.svm import SVR\n",
        "from sklearn.metrics import mean_squared_error, r2_score\n",
        "\n",
        "# Mounting the dataset\n",
        "df = pd.read_csv('/content/drive/MyDrive/TidalVolumeTask_PClub_Recruitment/Dataset_Female.csv')\n",
        "\n",
        "# Separate features and target variables\n",
        "X = df[['age', 'height', 'chest_circumference', 'BodyMassIndex']]\n",
        "y = df['tidal_volume']\n",
        "\n",
        "# Split the data\n",
        "X_train, X_val, y_train, y_val = train_test_split(X, y, test_size=0.75, random_state=42)\n",
        "\n",
        "# Initializing the Support Vector Machine Regressor model\n",
        "svr_model = SVR(kernel='rbf', C=30, gamma='auto', epsilon=0.01)\n",
        "\n",
        "# Training it\n",
        "svr_model.fit(X_train, y_train)\n",
        "\n",
        "# Final Predictions\n",
        "y_pred = svr_model.predict(X_val)\n",
        "\n",
        "# Comparison purpose\n",
        "mse = mean_squared_error(y_val, y_pred)\n",
        "r2 = r2_score(y_val, y_pred)\n",
        "\n",
        "print(f'Mean Squared Error: {mse}')\n",
        "print(f'R-squared: {r2}')\n",
        "\n"
      ],
      "metadata": {
        "colab": {
          "base_uri": "https://localhost:8080/"
        },
        "id": "5nDmWeLbCRwZ",
        "outputId": "fe24fc1a-b5b1-44bc-ab80-0d5fe3f3a776"
      },
      "execution_count": 23,
      "outputs": [
        {
          "output_type": "stream",
          "name": "stdout",
          "text": [
            "Mean Squared Error: 2131.239223446124\n",
            "R-squared: -0.05113776269129122\n"
          ]
        }
      ]
    },
    {
      "cell_type": "code",
      "source": [
        "# It is evident at this point that linear regression model was the best performing one for this dataset.\n",
        "# Also, it turns out that support vector machine does not fit well with the dataset and the predictions are not reliable.\n",
        "\n",
        "# The metric of comparsion is r_squared value and the mean squared errors obtained from the models I have used."
      ],
      "metadata": {
        "id": "Vn7aemX7aj1U"
      },
      "execution_count": null,
      "outputs": []
    },
    {
      "cell_type": "code",
      "source": [
        "#Gradient Boosting Regression model is implemented lastly.\n",
        "\n",
        "import pandas as pd\n",
        "from sklearn.model_selection import train_test_split\n",
        "from sklearn.ensemble import GradientBoostingRegressor\n",
        "from sklearn.metrics import mean_squared_error, r2_score\n",
        "\n",
        "# mounting the dataset as I have linked them all with the drive\n",
        "df = pd.read_csv('/content/drive/MyDrive/TidalVolumeTask_PClub_Recruitment/Dataset_Female.csv')\n",
        "\n",
        "# Separating the features from the target variable\n",
        "X = df[['age', 'height',  'chest_circumference', 'BodyMassIndex']]\n",
        "y = df['tidal_volume']\n",
        "\n",
        "# Spliting the dataset\n",
        "X_train, X_val, y_train, y_val = train_test_split(X, y, test_size=0.2, random_state=42)\n",
        "\n",
        "# Initializing the training model\n",
        "gb_model = GradientBoostingRegressor(n_estimators=100, learning_rate=0.1, max_depth=3, random_state=42)\n",
        "\n",
        "# As the n_estimators is 100, I have set it to default so that only 100 trees are formed and no excessive computation is performed.\n",
        "\n",
        "# Training it now\n",
        "gb_model.fit(X_train, y_train)\n",
        "\n",
        "# Final Predictions\n",
        "y_pred = gb_model.predict(X_val)\n",
        "\n",
        "# Just for the sake of comparison\n",
        "mse = mean_squared_error(y_val, y_pred)\n",
        "r2 = r2_score(y_val, y_pred)\n",
        "\n",
        "print(f'Mean Squared Error: {mse}')\n",
        "print(f'R-squared: {r2}')"
      ],
      "metadata": {
        "colab": {
          "base_uri": "https://localhost:8080/"
        },
        "id": "arcVCpMTDHy3",
        "outputId": "0548fd08-dc77-4eec-c653-5dbd422aa5b6"
      },
      "execution_count": 25,
      "outputs": [
        {
          "output_type": "stream",
          "name": "stdout",
          "text": [
            "Mean Squared Error: 992.7317350401706\n",
            "R-squared: 0.5884096182386772\n"
          ]
        }
      ]
    }
  ]
}