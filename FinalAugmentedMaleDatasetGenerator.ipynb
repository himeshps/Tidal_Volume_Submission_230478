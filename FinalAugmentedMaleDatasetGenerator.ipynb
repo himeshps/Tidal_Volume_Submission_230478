{
  "nbformat": 4,
  "nbformat_minor": 0,
  "metadata": {
    "colab": {
      "provenance": [],
      "mount_file_id": "1ujoR0WPSF2xm3aozWOxHbcRlIvJckf5C",
      "authorship_tag": "ABX9TyOiNRUJAnpSUn2/fopHl+Ce",
      "include_colab_link": true
    },
    "kernelspec": {
      "name": "python3",
      "display_name": "Python 3"
    },
    "language_info": {
      "name": "python"
    }
  },
  "cells": [
    {
      "cell_type": "markdown",
      "metadata": {
        "id": "view-in-github",
        "colab_type": "text"
      },
      "source": [
        "<a href=\"https://colab.research.google.com/github/himeshps/Tidal_Volume_Submission_230478/blob/main/FinalAugmentedMaleDatasetGenerator.ipynb\" target=\"_parent\"><img src=\"https://colab.research.google.com/assets/colab-badge.svg\" alt=\"Open In Colab\"/></a>"
      ]
    },
    {
      "cell_type": "code",
      "execution_count": 2,
      "metadata": {
        "colab": {
          "base_uri": "https://localhost:8080/"
        },
        "id": "TZ2dxF2lueo7",
        "outputId": "91025a7d-b63c-44d6-8a48-90948c047d5c"
      },
      "outputs": [
        {
          "output_type": "stream",
          "name": "stdout",
          "text": [
            "Original dataset size: (134, 6)\n",
            "Augmented dataset size: (300, 6)\n"
          ]
        }
      ],
      "source": [
        "#The code below is nothing different comapred to the female data set generator( here I am referring to the augmented final one), it is mere brute force application of the same statistical method.\n",
        "\n",
        "\n",
        "import numpy as np\n",
        "import pandas as pd\n",
        "\n",
        "# I have imported the originally deduced dataset at this point\n",
        "df = pd.read_csv('/content/male_original_dataset.csv')\n",
        "df = df.dropna()\n",
        "\n",
        "# Define the features and target variable for our model\n",
        "features = ['age', 'height', 'BodyMassIndex', 'weight', 'chest_circumference']\n",
        "target = 'tidal_volume'\n",
        "\n",
        "X = df[features]\n",
        "y = df[target]\n",
        "\n",
        "# Calculating the mean vector and covariance matrix of the features as a measure and indication to increase the data points\n",
        "mean_vector = X.mean().values\n",
        "cov_matrix = X.cov().values\n",
        "\n",
        "# Number of synthetic data points to generate\n",
        "n_synthetic = 166\n",
        "\n",
        "# Data point generator\n",
        "synthetic_data = np.random.multivariate_normal(mean_vector, cov_matrix, n_synthetic)\n",
        "\n",
        "# Dataframe created for tabular representation\n",
        "synthetic_df = pd.DataFrame(synthetic_data, columns=features)\n",
        "\n",
        "# Optionally, add noise to the synthetic target values based on the original target's distribution\n",
        "noise = np.random.normal(0, y.std(), n_synthetic)\n",
        "synthetic_target = y.mean() + noise\n",
        "synthetic_df[target] = synthetic_target\n",
        "# Combine synthetic features and target into a single DataFrame\n",
        "\n",
        "# Combine the original and synthetic data using concatenation so that the augmented dataset is received by us for further implementation.\n",
        "augmented_df = pd.concat([df, synthetic_df], ignore_index=True)\n",
        "\n",
        "# Save the augmented dataset\n",
        "augmented_df.to_csv('augmented_tidal_volume_data_male_DataSet.csv', index=False)\n",
        "\n",
        "print(f\"Original dataset size: {df.shape}\")\n",
        "print(f\"Augmented dataset size: {augmented_df.shape}\")"
      ]
    },
    {
      "cell_type": "code",
      "source": [
        "from google.colab import files\n",
        "\n",
        "# Download the file\n",
        "files.download('augmented_tidal_volume_data_male_DataSet.csv')"
      ],
      "metadata": {
        "colab": {
          "base_uri": "https://localhost:8080/",
          "height": 17
        },
        "id": "mbXoyB3jyYrz",
        "outputId": "73e717cf-b152-48b1-f667-93eca7e17efa"
      },
      "execution_count": 3,
      "outputs": [
        {
          "output_type": "display_data",
          "data": {
            "text/plain": [
              "<IPython.core.display.Javascript object>"
            ],
            "application/javascript": [
              "\n",
              "    async function download(id, filename, size) {\n",
              "      if (!google.colab.kernel.accessAllowed) {\n",
              "        return;\n",
              "      }\n",
              "      const div = document.createElement('div');\n",
              "      const label = document.createElement('label');\n",
              "      label.textContent = `Downloading \"${filename}\": `;\n",
              "      div.appendChild(label);\n",
              "      const progress = document.createElement('progress');\n",
              "      progress.max = size;\n",
              "      div.appendChild(progress);\n",
              "      document.body.appendChild(div);\n",
              "\n",
              "      const buffers = [];\n",
              "      let downloaded = 0;\n",
              "\n",
              "      const channel = await google.colab.kernel.comms.open(id);\n",
              "      // Send a message to notify the kernel that we're ready.\n",
              "      channel.send({})\n",
              "\n",
              "      for await (const message of channel.messages) {\n",
              "        // Send a message to notify the kernel that we're ready.\n",
              "        channel.send({})\n",
              "        if (message.buffers) {\n",
              "          for (const buffer of message.buffers) {\n",
              "            buffers.push(buffer);\n",
              "            downloaded += buffer.byteLength;\n",
              "            progress.value = downloaded;\n",
              "          }\n",
              "        }\n",
              "      }\n",
              "      const blob = new Blob(buffers, {type: 'application/binary'});\n",
              "      const a = document.createElement('a');\n",
              "      a.href = window.URL.createObjectURL(blob);\n",
              "      a.download = filename;\n",
              "      div.appendChild(a);\n",
              "      a.click();\n",
              "      div.remove();\n",
              "    }\n",
              "  "
            ]
          },
          "metadata": {}
        },
        {
          "output_type": "display_data",
          "data": {
            "text/plain": [
              "<IPython.core.display.Javascript object>"
            ],
            "application/javascript": [
              "download(\"download_32e02463-fea9-486a-abca-c4fff15e89df\", \"augmented_tidal_volume_data_male_DataSet.csv\", 32908)"
            ]
          },
          "metadata": {}
        }
      ]
    }
  ]
}