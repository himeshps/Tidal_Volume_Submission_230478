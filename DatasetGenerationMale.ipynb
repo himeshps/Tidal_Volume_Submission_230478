{
  "nbformat": 4,
  "nbformat_minor": 0,
  "metadata": {
    "colab": {
      "provenance": [],
      "authorship_tag": "ABX9TyNXX64bVd1kN8BOMaGp3V/4",
      "include_colab_link": true
    },
    "kernelspec": {
      "name": "python3",
      "display_name": "Python 3"
    },
    "language_info": {
      "name": "python"
    }
  },
  "cells": [
    {
      "cell_type": "markdown",
      "metadata": {
        "id": "view-in-github",
        "colab_type": "text"
      },
      "source": [
        "<a href=\"https://colab.research.google.com/github/himeshps/Tidal_Volume_Submission_230478/blob/main/DatasetGenerationMale.ipynb\" target=\"_parent\"><img src=\"https://colab.research.google.com/assets/colab-badge.svg\" alt=\"Open In Colab\"/></a>"
      ]
    },
    {
      "cell_type": "code",
      "execution_count": 1,
      "metadata": {
        "id": "104ZEhlMc8rl"
      },
      "outputs": [],
      "source": [
        "import numpy as np\n",
        "import pandas as pd\n",
        "\n",
        "# Define the features with their mean and standard deviation\n",
        "features = {\n",
        "    'weight': {'mean': 70.97, 'std': 12.51},\n",
        "    'height': {'mean': 167.96, 'std': 7.26},\n",
        "    'age': {'mean': 51.97, 'std': 16.11},\n",
        "    'chest_circumference': {'mean': 97.01, 'std': 8.99},\n",
        "    'BodyMassIndex': {'mean': 25.08, 'std': 3.68},\n",
        "    'tidal_volume': {'mean': 516.04, 'std': 62.33},\n",
        "}\n",
        "\n",
        "# Extract means and standard deviations\n",
        "means = [features[f]['mean'] for f in features]\n",
        "stds = [features[f]['std'] for f in features]\n"
      ]
    },
    {
      "cell_type": "code",
      "source": [
        "# Assumed correlation coefficients matrix (symmetric matrix with 1's on the diagonal)\n",
        "# Assumed correlation coefficients matrix (symmetric matrix with 1's on the diagonal)\n",
        "correlations = np.array([\n",
        "    [1.0, 0.795, 0.31,  0.85,0.862,0.90],\n",
        "    [0.795,  1.0,  0.26,  0.56,0.396, 0.85],\n",
        "    [0.31,  0.26,  1.0, 0.38, 0.25, -0.56],\n",
        "    [0.85, 0.56, 0.38,  1.0, 0.56, 0.80],\n",
        "    [0.862,0.396, 0.25,  0.56, 1.0, 0.69],\n",
        "    [ 0.90, 0.85, -0.56, 0.80, 0.69, 1.0]\n",
        "])\n"
      ],
      "metadata": {
        "id": "DnzfkGz4jn6Q"
      },
      "execution_count": 2,
      "outputs": []
    },
    {
      "cell_type": "code",
      "source": [
        "# Initialize covariance matrix\n",
        "cov_matrix = np.zeros((6, 6))\n",
        "\n",
        "# Fill covariance matrix\n",
        "for i in range(len(features)):\n",
        "    for j in range(len(features)):\n",
        "        cov_matrix[i, j] = correlations[i, j] * stds[i] * stds[j]\n",
        "\n",
        "print(\"Covariance Matrix:\\n\", cov_matrix)\n"
      ],
      "metadata": {
        "colab": {
          "base_uri": "https://localhost:8080/"
        },
        "id": "Eg2iI9IkTABp",
        "outputId": "c75bed09-67dd-438e-ef09-37a50d256718"
      },
      "execution_count": 5,
      "outputs": [
        {
          "output_type": "stream",
          "name": "stdout",
          "text": [
            "Covariance Matrix:\n",
            " [[ 156.5001      72.203967    62.476191    95.595165    39.6837216\n",
            "   701.77347  ]\n",
            " [  72.203967    52.7076      30.409236    36.549744    10.5798528\n",
            "   384.63843  ]\n",
            " [  62.476191    30.409236   259.5321      55.034982    14.8212\n",
            "  -562.316328 ]\n",
            " [  95.595165    36.549744    55.034982    80.8201      18.526592\n",
            "   448.27736  ]\n",
            " [  39.6837216   10.5798528   14.8212      18.526592    13.5424\n",
            "   158.268336 ]\n",
            " [ 701.77347    384.63843   -562.316328   448.27736    158.268336\n",
            "  3885.0289   ]]\n"
          ]
        }
      ]
    },
    {
      "cell_type": "code",
      "source": [
        "# Number of samples to generate\n",
        "num_samples = 134\n",
        "\n",
        "# Generate the synthetic dataset\n",
        "synthetic_data = np.random.multivariate_normal(mean=means, cov=cov_matrix, size=num_samples)\n",
        "\n",
        "# Convert to DataFrame\n",
        "columns = list(features.keys())\n",
        "df = pd.DataFrame(synthetic_data, columns=columns)\n",
        "\n",
        "# Display the first few rows of the generated dataset\n",
        "print(df.head())\n",
        "\n",
        "# Verify the generated data\n",
        "print(\"Means of the generated data:\\n\", df.mean())\n",
        "print(\"Standard deviations of the generated data:\\n\", df.std())\n",
        "print(\"Covariance matrix of the generated data:\\n\", df.cov())\n",
        "\n",
        "# Save to CSV if needed\n",
        "df.to_csv('synthetic_dataset_7_features.csv', index=False)\n"
      ],
      "metadata": {
        "colab": {
          "base_uri": "https://localhost:8080/"
        },
        "id": "GMvBeM7VTICL",
        "outputId": "c9b7f5dc-747a-4840-a72b-6349520150c1"
      },
      "execution_count": 6,
      "outputs": [
        {
          "output_type": "stream",
          "name": "stdout",
          "text": [
            "      weight      height        age  chest_circumference  BodyMassIndex  \\\n",
            "0  91.346296  171.408031  70.962901           105.679144      34.834027   \n",
            "1  64.829972  160.503045  78.119063            99.424462      24.183873   \n",
            "2  45.050329  153.322647  67.279286            78.610257      19.446265   \n",
            "3  68.790600  168.168819  43.247930            96.142707      23.808737   \n",
            "4  90.864228  182.063152  72.247020           109.592221      28.201905   \n",
            "\n",
            "   tidal_volume  \n",
            "0    589.182730  \n",
            "1    443.636740  \n",
            "2    400.453505  \n",
            "3    532.410864  \n",
            "4    592.913973  \n",
            "Means of the generated data:\n",
            " weight                  73.797462\n",
            "height                 168.870098\n",
            "age                     55.230878\n",
            "chest_circumference     99.329352\n",
            "BodyMassIndex           25.830123\n",
            "tidal_volume           525.004454\n",
            "dtype: float64\n",
            "Standard deviations of the generated data:\n",
            " weight                 15.842306\n",
            "height                  9.848120\n",
            "age                    17.621400\n",
            "chest_circumference    11.502782\n",
            "BodyMassIndex           4.334414\n",
            "tidal_volume           69.463457\n",
            "dtype: float64\n",
            "Covariance matrix of the generated data:\n",
            "                          weight      height         age  chest_circumference  \\\n",
            "weight               250.978653  135.778305  -14.463673           162.924512   \n",
            "height               135.778305   96.985468  -21.031222            82.695948   \n",
            "age                  -14.463673  -21.031222  310.513736            -7.653260   \n",
            "chest_circumference  162.924512   82.695948   -7.653260           132.313996   \n",
            "BodyMassIndex         56.642351   25.139821   -4.301766            31.028137   \n",
            "tidal_volume         877.670894  480.793019 -499.208011           571.568743   \n",
            "\n",
            "                     BodyMassIndex  tidal_volume  \n",
            "weight                   56.642351    877.670894  \n",
            "height                   25.139821    480.793019  \n",
            "age                      -4.301766   -499.208011  \n",
            "chest_circumference      31.028137    571.568743  \n",
            "BodyMassIndex            18.787149    182.076474  \n",
            "tidal_volume            182.076474   4825.171924  \n"
          ]
        },
        {
          "output_type": "stream",
          "name": "stderr",
          "text": [
            "<ipython-input-6-ad94c859c4c4>:5: RuntimeWarning: covariance is not symmetric positive-semidefinite.\n",
            "  synthetic_data = np.random.multivariate_normal(mean=means, cov=cov_matrix, size=num_samples)\n"
          ]
        }
      ]
    },
    {
      "cell_type": "code",
      "source": [
        "from google.colab import files\n",
        "\n",
        "# Download the file\n",
        "files.download('synthetic_dataset_7_features.csv')\n"
      ],
      "metadata": {
        "colab": {
          "base_uri": "https://localhost:8080/",
          "height": 17
        },
        "id": "1VsyIGi5WcJf",
        "outputId": "e1f4ce7c-ed23-4cf9-db59-901f30213b57"
      },
      "execution_count": 7,
      "outputs": [
        {
          "output_type": "display_data",
          "data": {
            "text/plain": [
              "<IPython.core.display.Javascript object>"
            ],
            "application/javascript": [
              "\n",
              "    async function download(id, filename, size) {\n",
              "      if (!google.colab.kernel.accessAllowed) {\n",
              "        return;\n",
              "      }\n",
              "      const div = document.createElement('div');\n",
              "      const label = document.createElement('label');\n",
              "      label.textContent = `Downloading \"${filename}\": `;\n",
              "      div.appendChild(label);\n",
              "      const progress = document.createElement('progress');\n",
              "      progress.max = size;\n",
              "      div.appendChild(progress);\n",
              "      document.body.appendChild(div);\n",
              "\n",
              "      const buffers = [];\n",
              "      let downloaded = 0;\n",
              "\n",
              "      const channel = await google.colab.kernel.comms.open(id);\n",
              "      // Send a message to notify the kernel that we're ready.\n",
              "      channel.send({})\n",
              "\n",
              "      for await (const message of channel.messages) {\n",
              "        // Send a message to notify the kernel that we're ready.\n",
              "        channel.send({})\n",
              "        if (message.buffers) {\n",
              "          for (const buffer of message.buffers) {\n",
              "            buffers.push(buffer);\n",
              "            downloaded += buffer.byteLength;\n",
              "            progress.value = downloaded;\n",
              "          }\n",
              "        }\n",
              "      }\n",
              "      const blob = new Blob(buffers, {type: 'application/binary'});\n",
              "      const a = document.createElement('a');\n",
              "      a.href = window.URL.createObjectURL(blob);\n",
              "      a.download = filename;\n",
              "      div.appendChild(a);\n",
              "      a.click();\n",
              "      div.remove();\n",
              "    }\n",
              "  "
            ]
          },
          "metadata": {}
        },
        {
          "output_type": "display_data",
          "data": {
            "text/plain": [
              "<IPython.core.display.Javascript object>"
            ],
            "application/javascript": [
              "download(\"download_30f90cc5-6a1d-430a-8b8e-feae1b1389d6\", \"synthetic_dataset_7_features.csv\", 14776)"
            ]
          },
          "metadata": {}
        }
      ]
    }
  ]
}